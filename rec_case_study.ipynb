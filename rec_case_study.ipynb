{
 "cells": [
  {
   "cell_type": "code",
   "execution_count": 1,
   "id": "e1dfdf1bd26c7b57",
   "metadata": {
    "ExecuteTime": {
     "end_time": "2025-01-20T06:45:36.156276Z",
     "start_time": "2025-01-20T06:45:36.067430Z"
    }
   },
   "outputs": [],
   "source": [
    "%load_ext autoreload\n",
    "%autoreload 2"
   ]
  },
  {
   "cell_type": "markdown",
   "id": "34e28830dfbdcc9c",
   "metadata": {},
   "source": [
    "# Recruitment Case Study\n",
    "\n",
    "The following details the steps of the Recruitments case-study as described in the D3.3 deliverable.\n",
    "\n",
    "## Step 0 - Setting up the working environment."
   ]
  },
  {
   "cell_type": "code",
   "execution_count": 2,
   "id": "92070d87ab254450",
   "metadata": {
    "ExecuteTime": {
     "end_time": "2025-01-20T06:45:36.249208Z",
     "start_time": "2025-01-20T06:45:36.165396Z"
    }
   },
   "outputs": [],
   "source": [
    "from flow import Network"
   ]
  },
  {
   "cell_type": "markdown",
   "id": "abe74a1cb9069a2b",
   "metadata": {},
   "source": [
    "## Step 1 - Create the basic structure of the information flow model.\n",
    "\n",
    "**We can use the Network utility to create a simple linear information flow.** We use this to create some initial sites and channels describing our use case."
   ]
  },
  {
   "cell_type": "code",
   "execution_count": 3,
   "id": "2678ffddbaef2a4f",
   "metadata": {
    "ExecuteTime": {
     "end_time": "2025-01-20T06:45:36.357387Z",
     "start_time": "2025-01-20T06:45:36.266936Z"
    }
   },
   "outputs": [],
   "source": [
    "N = Network(\n",
    "    site_ids=['(candidate)', 'Reg', 'Offered', 'Confirmed', \n",
    "              'Selected', 'Shortlist', 'Hired'], \n",
    "    channel_ids=['Candidate reg', 'REC search', 'Offer presented', \n",
    "                 'REC selection', 'REC interview', 'Client interview'])"
   ]
  },
  {
   "cell_type": "code",
   "execution_count": 4,
   "id": "d63f50ba5f9f9f96",
   "metadata": {
    "ExecuteTime": {
     "end_time": "2025-01-20T06:45:36.467252Z",
     "start_time": "2025-01-20T06:45:36.376195Z"
    }
   },
   "outputs": [
    {
     "data": {
      "text/html": [
       "\n",
       "        <div style=\"display: flex; align-items: center; justify-content: space-between; width: 100%; font-family: Arial; font-size: 16px;\">\n",
       "            <div style=\"text-align: right; align-items: right; margin-right: 12px; width: 30%\">\n",
       "                <p>(candidate)</p>\n",
       "            </div>\n",
       "            <div style=\"text-align: center; position: relative; flex: 1;\">\n",
       "                <svg height=\"50\" width=\"150\" style=\"overflow: visible;\">\n",
       "                    <defs>\n",
       "                        <marker id=\"arrowhead_1\" markerWidth=\"10\" markerHeight=\"7\" refX=\"10\" refY=\"3.5\" orient=\"auto\">\n",
       "                            <polygon points=\"0 0, 10 3.5, 0 7\" fill=\"currentColor\" />\n",
       "                        </marker>\n",
       "                    </defs>\n",
       "                    <line x1=\"0\" y1=\"25\" x2=\"150\" y2=\"25\" stroke=\"currentColor\" stroke-width=\"2\" marker-end=\"url(#arrowhead_1)\" />\n",
       "                </svg>\n",
       "                <div style=\"position: absolute; top: 0; left: 50%; transform: translateX(-50%); font-size: 14px;\">Candidate reg</div>\n",
       "            </div>\n",
       "            <div style=\"text-align: left; margin-left: 12px;; width: 30%\">\n",
       "                <p>Reg</p>\n",
       "            </div>\n",
       "        </div>\n",
       "        "
      ],
      "text/plain": [
       "<IPython.core.display.HTML object>"
      ]
     },
     "metadata": {},
     "output_type": "display_data"
    },
    {
     "data": {
      "text/html": [
       "\n",
       "        <div style=\"display: flex; align-items: center; justify-content: space-between; width: 100%; font-family: Arial; font-size: 16px;\">\n",
       "            <div style=\"text-align: right; align-items: right; margin-right: 12px; width: 30%\">\n",
       "                <p>Reg</p>\n",
       "            </div>\n",
       "            <div style=\"text-align: center; position: relative; flex: 1;\">\n",
       "                <svg height=\"50\" width=\"150\" style=\"overflow: visible;\">\n",
       "                    <defs>\n",
       "                        <marker id=\"arrowhead_2\" markerWidth=\"10\" markerHeight=\"7\" refX=\"10\" refY=\"3.5\" orient=\"auto\">\n",
       "                            <polygon points=\"0 0, 10 3.5, 0 7\" fill=\"currentColor\" />\n",
       "                        </marker>\n",
       "                    </defs>\n",
       "                    <line x1=\"0\" y1=\"25\" x2=\"150\" y2=\"25\" stroke=\"currentColor\" stroke-width=\"2\" marker-end=\"url(#arrowhead_2)\" />\n",
       "                </svg>\n",
       "                <div style=\"position: absolute; top: 0; left: 50%; transform: translateX(-50%); font-size: 14px;\">REC search</div>\n",
       "            </div>\n",
       "            <div style=\"text-align: left; margin-left: 12px;; width: 30%\">\n",
       "                <p>Offered</p>\n",
       "            </div>\n",
       "        </div>\n",
       "        "
      ],
      "text/plain": [
       "<IPython.core.display.HTML object>"
      ]
     },
     "metadata": {},
     "output_type": "display_data"
    },
    {
     "data": {
      "text/html": [
       "\n",
       "        <div style=\"display: flex; align-items: center; justify-content: space-between; width: 100%; font-family: Arial; font-size: 16px;\">\n",
       "            <div style=\"text-align: right; align-items: right; margin-right: 12px; width: 30%\">\n",
       "                <p>Offered</p>\n",
       "            </div>\n",
       "            <div style=\"text-align: center; position: relative; flex: 1;\">\n",
       "                <svg height=\"50\" width=\"150\" style=\"overflow: visible;\">\n",
       "                    <defs>\n",
       "                        <marker id=\"arrowhead_3\" markerWidth=\"10\" markerHeight=\"7\" refX=\"10\" refY=\"3.5\" orient=\"auto\">\n",
       "                            <polygon points=\"0 0, 10 3.5, 0 7\" fill=\"currentColor\" />\n",
       "                        </marker>\n",
       "                    </defs>\n",
       "                    <line x1=\"0\" y1=\"25\" x2=\"150\" y2=\"25\" stroke=\"currentColor\" stroke-width=\"2\" marker-end=\"url(#arrowhead_3)\" />\n",
       "                </svg>\n",
       "                <div style=\"position: absolute; top: 0; left: 50%; transform: translateX(-50%); font-size: 14px;\">Offer presented</div>\n",
       "            </div>\n",
       "            <div style=\"text-align: left; margin-left: 12px;; width: 30%\">\n",
       "                <p>Confirmed</p>\n",
       "            </div>\n",
       "        </div>\n",
       "        "
      ],
      "text/plain": [
       "<IPython.core.display.HTML object>"
      ]
     },
     "metadata": {},
     "output_type": "display_data"
    },
    {
     "data": {
      "text/html": [
       "\n",
       "        <div style=\"display: flex; align-items: center; justify-content: space-between; width: 100%; font-family: Arial; font-size: 16px;\">\n",
       "            <div style=\"text-align: right; align-items: right; margin-right: 12px; width: 30%\">\n",
       "                <p>Confirmed</p>\n",
       "            </div>\n",
       "            <div style=\"text-align: center; position: relative; flex: 1;\">\n",
       "                <svg height=\"50\" width=\"150\" style=\"overflow: visible;\">\n",
       "                    <defs>\n",
       "                        <marker id=\"arrowhead_4\" markerWidth=\"10\" markerHeight=\"7\" refX=\"10\" refY=\"3.5\" orient=\"auto\">\n",
       "                            <polygon points=\"0 0, 10 3.5, 0 7\" fill=\"currentColor\" />\n",
       "                        </marker>\n",
       "                    </defs>\n",
       "                    <line x1=\"0\" y1=\"25\" x2=\"150\" y2=\"25\" stroke=\"currentColor\" stroke-width=\"2\" marker-end=\"url(#arrowhead_4)\" />\n",
       "                </svg>\n",
       "                <div style=\"position: absolute; top: 0; left: 50%; transform: translateX(-50%); font-size: 14px;\">REC selection</div>\n",
       "            </div>\n",
       "            <div style=\"text-align: left; margin-left: 12px;; width: 30%\">\n",
       "                <p>Selected</p>\n",
       "            </div>\n",
       "        </div>\n",
       "        "
      ],
      "text/plain": [
       "<IPython.core.display.HTML object>"
      ]
     },
     "metadata": {},
     "output_type": "display_data"
    },
    {
     "data": {
      "text/html": [
       "\n",
       "        <div style=\"display: flex; align-items: center; justify-content: space-between; width: 100%; font-family: Arial; font-size: 16px;\">\n",
       "            <div style=\"text-align: right; align-items: right; margin-right: 12px; width: 30%\">\n",
       "                <p>Selected</p>\n",
       "            </div>\n",
       "            <div style=\"text-align: center; position: relative; flex: 1;\">\n",
       "                <svg height=\"50\" width=\"150\" style=\"overflow: visible;\">\n",
       "                    <defs>\n",
       "                        <marker id=\"arrowhead_5\" markerWidth=\"10\" markerHeight=\"7\" refX=\"10\" refY=\"3.5\" orient=\"auto\">\n",
       "                            <polygon points=\"0 0, 10 3.5, 0 7\" fill=\"currentColor\" />\n",
       "                        </marker>\n",
       "                    </defs>\n",
       "                    <line x1=\"0\" y1=\"25\" x2=\"150\" y2=\"25\" stroke=\"currentColor\" stroke-width=\"2\" marker-end=\"url(#arrowhead_5)\" />\n",
       "                </svg>\n",
       "                <div style=\"position: absolute; top: 0; left: 50%; transform: translateX(-50%); font-size: 14px;\">REC interview</div>\n",
       "            </div>\n",
       "            <div style=\"text-align: left; margin-left: 12px;; width: 30%\">\n",
       "                <p>Shortlist</p>\n",
       "            </div>\n",
       "        </div>\n",
       "        "
      ],
      "text/plain": [
       "<IPython.core.display.HTML object>"
      ]
     },
     "metadata": {},
     "output_type": "display_data"
    },
    {
     "data": {
      "text/html": [
       "\n",
       "        <div style=\"display: flex; align-items: center; justify-content: space-between; width: 100%; font-family: Arial; font-size: 16px;\">\n",
       "            <div style=\"text-align: right; align-items: right; margin-right: 12px; width: 30%\">\n",
       "                <p>Shortlist</p>\n",
       "            </div>\n",
       "            <div style=\"text-align: center; position: relative; flex: 1;\">\n",
       "                <svg height=\"50\" width=\"150\" style=\"overflow: visible;\">\n",
       "                    <defs>\n",
       "                        <marker id=\"arrowhead_6\" markerWidth=\"10\" markerHeight=\"7\" refX=\"10\" refY=\"3.5\" orient=\"auto\">\n",
       "                            <polygon points=\"0 0, 10 3.5, 0 7\" fill=\"currentColor\" />\n",
       "                        </marker>\n",
       "                    </defs>\n",
       "                    <line x1=\"0\" y1=\"25\" x2=\"150\" y2=\"25\" stroke=\"currentColor\" stroke-width=\"2\" marker-end=\"url(#arrowhead_6)\" />\n",
       "                </svg>\n",
       "                <div style=\"position: absolute; top: 0; left: 50%; transform: translateX(-50%); font-size: 14px;\">Client interview</div>\n",
       "            </div>\n",
       "            <div style=\"text-align: left; margin-left: 12px;; width: 30%\">\n",
       "                <p>Hired</p>\n",
       "            </div>\n",
       "        </div>\n",
       "        "
      ],
      "text/plain": [
       "<IPython.core.display.HTML object>"
      ]
     },
     "metadata": {},
     "output_type": "display_data"
    }
   ],
   "source": [
    "# We can print it to look how it looks like.\n",
    "N.plt()"
   ]
  },
  {
   "cell_type": "markdown",
   "id": "531d32f088af1dd5",
   "metadata": {},
   "source": [
    "## Step 2. Refine the model.\n",
    "\n",
    "The initial structure was way too simple. We need more sites and channels to make it repesentative of the use case."
   ]
  },
  {
   "cell_type": "markdown",
   "id": "19eb62d3-66ae-4e4b-9b08-e707dc914602",
   "metadata": {},
   "source": [
    "**We need some more sites to make the above simple picture more detailed.**"
   ]
  },
  {
   "cell_type": "code",
   "execution_count": 5,
   "id": "cf69525f8172aadc",
   "metadata": {
    "ExecuteTime": {
     "end_time": "2025-01-20T06:45:36.608623Z",
     "start_time": "2025-01-20T06:45:36.501255Z"
    }
   },
   "outputs": [],
   "source": [
    "client, jp, cv, inp = N.sites('(client)', 'JP', 'CV', '(c. in person)', create=True)"
   ]
  },
  {
   "cell_type": "markdown",
   "id": "60cd0aab-918d-4dae-8f1b-ebe3f6c4c9e0",
   "metadata": {},
   "source": [
    "**Create the missing channel**"
   ]
  },
  {
   "cell_type": "code",
   "execution_count": 6,
   "id": "97891343f94c2aea",
   "metadata": {
    "ExecuteTime": {
     "end_time": "2025-01-20T06:45:36.735081Z",
     "start_time": "2025-01-20T06:45:36.642511Z"
    }
   },
   "outputs": [],
   "source": [
    "N.channel(client, jp, id='REC create JP').label = 'Create JP'"
   ]
  },
  {
   "cell_type": "markdown",
   "id": "9bdc1ac9-56b6-44fd-9d2b-638a71de125c",
   "metadata": {
    "ExecuteTime": {
     "end_time": "2025-01-09T00:49:20.801700Z",
     "start_time": "2025-01-09T00:49:20.712850Z"
    }
   },
   "source": [
    "**These are now the sites:**"
   ]
  },
  {
   "cell_type": "code",
   "execution_count": 7,
   "id": "0b2d2de6-ae9a-4352-a1b7-50c17c28320b",
   "metadata": {
    "ExecuteTime": {
     "end_time": "2025-01-20T06:45:36.844506Z",
     "start_time": "2025-01-20T06:45:36.752085Z"
    }
   },
   "outputs": [
    {
     "data": {
      "text/plain": [
       "{'_s0': (candidate),\n",
       " '_s1': Reg,\n",
       " '_s2': Offered,\n",
       " '_s3': Confirmed,\n",
       " '_s4': Selected,\n",
       " '_s5': Shortlist,\n",
       " '_s6': Hired,\n",
       " '_s7': (client),\n",
       " '_s8': JP,\n",
       " '_s9': CV,\n",
       " '_s10': (c. in person)}"
      ]
     },
     "execution_count": 7,
     "metadata": {},
     "output_type": "execute_result"
    }
   ],
   "source": [
    "N._sites"
   ]
  },
  {
   "cell_type": "markdown",
   "id": "7a89c6ca-3081-4cbc-9586-812e7b021504",
   "metadata": {},
   "source": [
    "**We might wonder if the structure we have created thus far works.**\n",
    "\n",
    "We can run *compute_order()*.\n",
    "\n",
    "This will reveal that we have orphaned sites which are not yet connected.\n",
    "If some channels were unreachable this would also be revealed."
   ]
  },
  {
   "cell_type": "code",
   "execution_count": 8,
   "id": "76e84557860f93c2",
   "metadata": {
    "ExecuteTime": {
     "end_time": "2025-01-20T06:45:37.001543Z",
     "start_time": "2025-01-20T06:45:36.914155Z"
    }
   },
   "outputs": [
    {
     "name": "stdout",
     "output_type": "stream",
     "text": [
      "Warning: There are orphaned sites. [CV, (c. in person)]\n"
     ]
    }
   ],
   "source": [
    "N.compute_order()"
   ]
  },
  {
   "cell_type": "markdown",
   "id": "12da833de582d009",
   "metadata": {},
   "source": [
    "**We see here that the new sites needs to be connected to the channels.**"
   ]
  },
  {
   "cell_type": "code",
   "execution_count": 9,
   "id": "31ed10df6ec84ad0",
   "metadata": {
    "ExecuteTime": {
     "end_time": "2025-01-20T06:45:37.110586Z",
     "start_time": "2025-01-20T06:45:37.017664Z"
    }
   },
   "outputs": [
    {
     "data": {
      "text/plain": [
       "{'_c0': <Candidate reg: [(candidate)] --> {Reg}>,\n",
       " '_c6': <Create JP: [(client)] --> {JP}>,\n",
       " '_c1': <REC search: [Reg] --> {Offered}>,\n",
       " '_c2': <Offer presented: [Offered] --> {Confirmed}>,\n",
       " '_c3': <REC selection: [Confirmed] --> {Selected}>,\n",
       " '_c4': <REC interview: [Selected] --> {Shortlist}>,\n",
       " '_c5': <Client interview: [Shortlist] --> {Hired}>}"
      ]
     },
     "execution_count": 9,
     "metadata": {},
     "output_type": "execute_result"
    }
   ],
   "source": [
    "N._channels"
   ]
  },
  {
   "cell_type": "code",
   "execution_count": 10,
   "id": "dbe100d3d596f0d",
   "metadata": {
    "ExecuteTime": {
     "end_time": "2025-01-20T06:46:40.045584Z",
     "start_time": "2025-01-20T06:46:39.952591Z"
    }
   },
   "outputs": [
    {
     "data": {
      "text/plain": [
       "<Offer presented: [Offered] --> {Confirmed, CV}>"
      ]
     },
     "execution_count": 10,
     "metadata": {},
     "output_type": "execute_result"
    }
   ],
   "source": [
    "# The new sites needs to be connected\n",
    "c1, c4, c5, c2 = N.channels('_c1', '_c4', '_c5', '_c2')\n",
    "c1.add_input(jp)\n",
    "c4.add_input(inp).add_input(cv)\n",
    "c5.add_input(inp).add_input(cv)\n",
    "c2.add_output(cv)"
   ]
  },
  {
   "cell_type": "code",
   "execution_count": 11,
   "id": "0515fe72-8a9c-47d1-b360-fb2bf9b254b4",
   "metadata": {},
   "outputs": [],
   "source": [
    "# Compute how the channels and site relates to each other. \n",
    "# This will both connect channels together in a graph and \n",
    "# detect problems like orphaned or unreachable sites or channels.\n",
    "N.compute_order()"
   ]
  },
  {
   "cell_type": "markdown",
   "id": "ff0cd02e-f454-4767-9dd9-4affcbbc4008",
   "metadata": {},
   "source": [
    "**Now the graph is without errors**"
   ]
  },
  {
   "cell_type": "code",
   "execution_count": 12,
   "id": "73fbc0bb870ccab1",
   "metadata": {
    "ExecuteTime": {
     "end_time": "2025-01-20T06:45:37.590513Z",
     "start_time": "2025-01-20T06:45:37.491951Z"
    }
   },
   "outputs": [
    {
     "data": {
      "text/html": [
       "\n",
       "        <div style=\"display: flex; align-items: center; justify-content: space-between; width: 100%; font-family: Arial; font-size: 16px;\">\n",
       "            <div style=\"text-align: right; align-items: right; margin-right: 12px; width: 30%\">\n",
       "                <p>(candidate)</p>\n",
       "            </div>\n",
       "            <div style=\"text-align: center; position: relative; flex: 1;\">\n",
       "                <svg height=\"50\" width=\"150\" style=\"overflow: visible;\">\n",
       "                    <defs>\n",
       "                        <marker id=\"arrowhead_7\" markerWidth=\"10\" markerHeight=\"7\" refX=\"10\" refY=\"3.5\" orient=\"auto\">\n",
       "                            <polygon points=\"0 0, 10 3.5, 0 7\" fill=\"currentColor\" />\n",
       "                        </marker>\n",
       "                    </defs>\n",
       "                    <line x1=\"0\" y1=\"25\" x2=\"150\" y2=\"25\" stroke=\"currentColor\" stroke-width=\"2\" marker-end=\"url(#arrowhead_7)\" />\n",
       "                </svg>\n",
       "                <div style=\"position: absolute; top: 0; left: 50%; transform: translateX(-50%); font-size: 14px;\">Candidate reg</div>\n",
       "            </div>\n",
       "            <div style=\"text-align: left; margin-left: 12px;; width: 30%\">\n",
       "                <p>Reg</p>\n",
       "            </div>\n",
       "        </div>\n",
       "        "
      ],
      "text/plain": [
       "<IPython.core.display.HTML object>"
      ]
     },
     "metadata": {},
     "output_type": "display_data"
    },
    {
     "data": {
      "text/html": [
       "\n",
       "        <div style=\"display: flex; align-items: center; justify-content: space-between; width: 100%; font-family: Arial; font-size: 16px;\">\n",
       "            <div style=\"text-align: right; align-items: right; margin-right: 12px; width: 30%\">\n",
       "                <p>(client)</p>\n",
       "            </div>\n",
       "            <div style=\"text-align: center; position: relative; flex: 1;\">\n",
       "                <svg height=\"50\" width=\"150\" style=\"overflow: visible;\">\n",
       "                    <defs>\n",
       "                        <marker id=\"arrowhead_8\" markerWidth=\"10\" markerHeight=\"7\" refX=\"10\" refY=\"3.5\" orient=\"auto\">\n",
       "                            <polygon points=\"0 0, 10 3.5, 0 7\" fill=\"currentColor\" />\n",
       "                        </marker>\n",
       "                    </defs>\n",
       "                    <line x1=\"0\" y1=\"25\" x2=\"150\" y2=\"25\" stroke=\"currentColor\" stroke-width=\"2\" marker-end=\"url(#arrowhead_8)\" />\n",
       "                </svg>\n",
       "                <div style=\"position: absolute; top: 0; left: 50%; transform: translateX(-50%); font-size: 14px;\">Create JP</div>\n",
       "            </div>\n",
       "            <div style=\"text-align: left; margin-left: 12px;; width: 30%\">\n",
       "                <p>JP</p>\n",
       "            </div>\n",
       "        </div>\n",
       "        "
      ],
      "text/plain": [
       "<IPython.core.display.HTML object>"
      ]
     },
     "metadata": {},
     "output_type": "display_data"
    },
    {
     "data": {
      "text/html": [
       "\n",
       "        <div style=\"display: flex; align-items: center; justify-content: space-between; width: 100%; font-family: Arial; font-size: 16px;\">\n",
       "            <div style=\"text-align: right; align-items: right; margin-right: 12px; width: 30%\">\n",
       "                <p>Reg</p><p>JP</p>\n",
       "            </div>\n",
       "            <div style=\"text-align: center; position: relative; flex: 1;\">\n",
       "                <svg height=\"50\" width=\"150\" style=\"overflow: visible;\">\n",
       "                    <defs>\n",
       "                        <marker id=\"arrowhead_9\" markerWidth=\"10\" markerHeight=\"7\" refX=\"10\" refY=\"3.5\" orient=\"auto\">\n",
       "                            <polygon points=\"0 0, 10 3.5, 0 7\" fill=\"currentColor\" />\n",
       "                        </marker>\n",
       "                    </defs>\n",
       "                    <line x1=\"0\" y1=\"25\" x2=\"150\" y2=\"25\" stroke=\"currentColor\" stroke-width=\"2\" marker-end=\"url(#arrowhead_9)\" />\n",
       "                </svg>\n",
       "                <div style=\"position: absolute; top: 0; left: 50%; transform: translateX(-50%); font-size: 14px;\">REC search</div>\n",
       "            </div>\n",
       "            <div style=\"text-align: left; margin-left: 12px;; width: 30%\">\n",
       "                <p>Offered</p>\n",
       "            </div>\n",
       "        </div>\n",
       "        "
      ],
      "text/plain": [
       "<IPython.core.display.HTML object>"
      ]
     },
     "metadata": {},
     "output_type": "display_data"
    },
    {
     "data": {
      "text/html": [
       "\n",
       "        <div style=\"display: flex; align-items: center; justify-content: space-between; width: 100%; font-family: Arial; font-size: 16px;\">\n",
       "            <div style=\"text-align: right; align-items: right; margin-right: 12px; width: 30%\">\n",
       "                <p>Offered</p>\n",
       "            </div>\n",
       "            <div style=\"text-align: center; position: relative; flex: 1;\">\n",
       "                <svg height=\"50\" width=\"150\" style=\"overflow: visible;\">\n",
       "                    <defs>\n",
       "                        <marker id=\"arrowhead_10\" markerWidth=\"10\" markerHeight=\"7\" refX=\"10\" refY=\"3.5\" orient=\"auto\">\n",
       "                            <polygon points=\"0 0, 10 3.5, 0 7\" fill=\"currentColor\" />\n",
       "                        </marker>\n",
       "                    </defs>\n",
       "                    <line x1=\"0\" y1=\"25\" x2=\"150\" y2=\"25\" stroke=\"currentColor\" stroke-width=\"2\" marker-end=\"url(#arrowhead_10)\" />\n",
       "                </svg>\n",
       "                <div style=\"position: absolute; top: 0; left: 50%; transform: translateX(-50%); font-size: 14px;\">Offer presented</div>\n",
       "            </div>\n",
       "            <div style=\"text-align: left; margin-left: 12px;; width: 30%\">\n",
       "                <p>Confirmed</p><p>CV</p>\n",
       "            </div>\n",
       "        </div>\n",
       "        "
      ],
      "text/plain": [
       "<IPython.core.display.HTML object>"
      ]
     },
     "metadata": {},
     "output_type": "display_data"
    },
    {
     "data": {
      "text/html": [
       "\n",
       "        <div style=\"display: flex; align-items: center; justify-content: space-between; width: 100%; font-family: Arial; font-size: 16px;\">\n",
       "            <div style=\"text-align: right; align-items: right; margin-right: 12px; width: 30%\">\n",
       "                <p>Confirmed</p>\n",
       "            </div>\n",
       "            <div style=\"text-align: center; position: relative; flex: 1;\">\n",
       "                <svg height=\"50\" width=\"150\" style=\"overflow: visible;\">\n",
       "                    <defs>\n",
       "                        <marker id=\"arrowhead_11\" markerWidth=\"10\" markerHeight=\"7\" refX=\"10\" refY=\"3.5\" orient=\"auto\">\n",
       "                            <polygon points=\"0 0, 10 3.5, 0 7\" fill=\"currentColor\" />\n",
       "                        </marker>\n",
       "                    </defs>\n",
       "                    <line x1=\"0\" y1=\"25\" x2=\"150\" y2=\"25\" stroke=\"currentColor\" stroke-width=\"2\" marker-end=\"url(#arrowhead_11)\" />\n",
       "                </svg>\n",
       "                <div style=\"position: absolute; top: 0; left: 50%; transform: translateX(-50%); font-size: 14px;\">REC selection</div>\n",
       "            </div>\n",
       "            <div style=\"text-align: left; margin-left: 12px;; width: 30%\">\n",
       "                <p>Selected</p>\n",
       "            </div>\n",
       "        </div>\n",
       "        "
      ],
      "text/plain": [
       "<IPython.core.display.HTML object>"
      ]
     },
     "metadata": {},
     "output_type": "display_data"
    },
    {
     "data": {
      "text/html": [
       "\n",
       "        <div style=\"display: flex; align-items: center; justify-content: space-between; width: 100%; font-family: Arial; font-size: 16px;\">\n",
       "            <div style=\"text-align: right; align-items: right; margin-right: 12px; width: 30%\">\n",
       "                <p>Selected</p><p>CV</p><p>(c. in person)</p>\n",
       "            </div>\n",
       "            <div style=\"text-align: center; position: relative; flex: 1;\">\n",
       "                <svg height=\"50\" width=\"150\" style=\"overflow: visible;\">\n",
       "                    <defs>\n",
       "                        <marker id=\"arrowhead_12\" markerWidth=\"10\" markerHeight=\"7\" refX=\"10\" refY=\"3.5\" orient=\"auto\">\n",
       "                            <polygon points=\"0 0, 10 3.5, 0 7\" fill=\"currentColor\" />\n",
       "                        </marker>\n",
       "                    </defs>\n",
       "                    <line x1=\"0\" y1=\"25\" x2=\"150\" y2=\"25\" stroke=\"currentColor\" stroke-width=\"2\" marker-end=\"url(#arrowhead_12)\" />\n",
       "                </svg>\n",
       "                <div style=\"position: absolute; top: 0; left: 50%; transform: translateX(-50%); font-size: 14px;\">REC interview</div>\n",
       "            </div>\n",
       "            <div style=\"text-align: left; margin-left: 12px;; width: 30%\">\n",
       "                <p>Shortlist</p>\n",
       "            </div>\n",
       "        </div>\n",
       "        "
      ],
      "text/plain": [
       "<IPython.core.display.HTML object>"
      ]
     },
     "metadata": {},
     "output_type": "display_data"
    },
    {
     "data": {
      "text/html": [
       "\n",
       "        <div style=\"display: flex; align-items: center; justify-content: space-between; width: 100%; font-family: Arial; font-size: 16px;\">\n",
       "            <div style=\"text-align: right; align-items: right; margin-right: 12px; width: 30%\">\n",
       "                <p>Shortlist</p><p>CV</p><p>(c. in person)</p>\n",
       "            </div>\n",
       "            <div style=\"text-align: center; position: relative; flex: 1;\">\n",
       "                <svg height=\"50\" width=\"150\" style=\"overflow: visible;\">\n",
       "                    <defs>\n",
       "                        <marker id=\"arrowhead_13\" markerWidth=\"10\" markerHeight=\"7\" refX=\"10\" refY=\"3.5\" orient=\"auto\">\n",
       "                            <polygon points=\"0 0, 10 3.5, 0 7\" fill=\"currentColor\" />\n",
       "                        </marker>\n",
       "                    </defs>\n",
       "                    <line x1=\"0\" y1=\"25\" x2=\"150\" y2=\"25\" stroke=\"currentColor\" stroke-width=\"2\" marker-end=\"url(#arrowhead_13)\" />\n",
       "                </svg>\n",
       "                <div style=\"position: absolute; top: 0; left: 50%; transform: translateX(-50%); font-size: 14px;\">Client interview</div>\n",
       "            </div>\n",
       "            <div style=\"text-align: left; margin-left: 12px;; width: 30%\">\n",
       "                <p>Hired</p>\n",
       "            </div>\n",
       "        </div>\n",
       "        "
      ],
      "text/plain": [
       "<IPython.core.display.HTML object>"
      ]
     },
     "metadata": {},
     "output_type": "display_data"
    }
   ],
   "source": [
    "# Show the new computed version. It now presents the channels in information-flow order.\n",
    "N.plt()"
   ]
  },
  {
   "cell_type": "markdown",
   "id": "748138bf9638f65d",
   "metadata": {},
   "source": [
    "**Basic structure complete.**\n",
    "\n",
    "Now this starts to look like the real recruitment process."
   ]
  },
  {
   "cell_type": "markdown",
   "id": "91fabab93a139dce",
   "metadata": {
    "jp-MarkdownHeadingCollapsed": true
   },
   "source": [
    "## Step 3 - Assign types\n",
    "\n",
    "Here we assign types to information sites.\n",
    "Types can be assigned and created manually or through the labels early on if we already have that information."
   ]
  },
  {
   "cell_type": "code",
   "execution_count": 13,
   "id": "660404ee463c3059",
   "metadata": {
    "ExecuteTime": {
     "end_time": "2025-01-20T06:45:37.716221Z",
     "start_time": "2025-01-20T06:45:37.624512Z"
    }
   },
   "outputs": [
    {
     "data": {
      "text/plain": [
       "[(0, (candidate)),\n",
       " (0, (client)),\n",
       " (0, (c. in person)),\n",
       " (1, Reg),\n",
       " (1, JP),\n",
       " (2, Offered),\n",
       " (3, Confirmed),\n",
       " (3, CV),\n",
       " (4, Selected),\n",
       " (5, Shortlist),\n",
       " (6, Hired)]"
      ]
     },
     "execution_count": 13,
     "metadata": {},
     "output_type": "execute_result"
    }
   ],
   "source": [
    "N.sites().levels"
   ]
  },
  {
   "cell_type": "code",
   "execution_count": 14,
   "id": "eb25f5344f40b502",
   "metadata": {
    "ExecuteTime": {
     "end_time": "2025-01-20T06:45:37.829212Z",
     "start_time": "2025-01-20T06:45:37.736423Z"
    }
   },
   "outputs": [
    {
     "data": {
      "text/plain": [
       "[(0, <Candidate reg: [(candidate)] --> {Reg}>),\n",
       " (0, <Create JP: [(client)] --> {JP}>),\n",
       " (1, <REC search: [Reg, JP] --> {Offered}>),\n",
       " (2, <Offer presented: [Offered] --> {Confirmed, CV}>),\n",
       " (3, <REC selection: [Confirmed] --> {Selected}>),\n",
       " (4, <REC interview: [Selected, CV, (c. in person)] --> {Shortlist}>),\n",
       " (5, <Client interview: [Shortlist, CV, (c. in person)] --> {Hired}>)]"
      ]
     },
     "execution_count": 14,
     "metadata": {},
     "output_type": "execute_result"
    }
   ],
   "source": [
    "N.channels().levels"
   ]
  },
  {
   "cell_type": "code",
   "execution_count": 15,
   "id": "d867c16e-e41d-4c56-96e0-c62d44e67a4f",
   "metadata": {
    "ExecuteTime": {
     "end_time": "2025-01-20T06:45:37.923542Z",
     "start_time": "2025-01-20T06:45:37.846380Z"
    }
   },
   "outputs": [],
   "source": [
    "N2 = Network(site_ids=['Rec_Ext', 'Offered'], channel_ids=['AI Model Search'])"
   ]
  },
  {
   "cell_type": "code",
   "execution_count": 16,
   "id": "7e221f91975aed2c",
   "metadata": {
    "ExecuteTime": {
     "end_time": "2025-01-20T06:45:38.034080Z",
     "start_time": "2025-01-20T06:45:37.942379Z"
    }
   },
   "outputs": [
    {
     "data": {
      "text/html": [
       "\n",
       "        <div style=\"display: flex; align-items: center; justify-content: space-between; width: 100%; font-family: Arial; font-size: 16px;\">\n",
       "            <div style=\"text-align: right; align-items: right; margin-right: 12px; width: 30%\">\n",
       "                <p>Rec_Ext</p>\n",
       "            </div>\n",
       "            <div style=\"text-align: center; position: relative; flex: 1;\">\n",
       "                <svg height=\"50\" width=\"150\" style=\"overflow: visible;\">\n",
       "                    <defs>\n",
       "                        <marker id=\"arrowhead_14\" markerWidth=\"10\" markerHeight=\"7\" refX=\"10\" refY=\"3.5\" orient=\"auto\">\n",
       "                            <polygon points=\"0 0, 10 3.5, 0 7\" fill=\"currentColor\" />\n",
       "                        </marker>\n",
       "                    </defs>\n",
       "                    <line x1=\"0\" y1=\"25\" x2=\"150\" y2=\"25\" stroke=\"currentColor\" stroke-width=\"2\" marker-end=\"url(#arrowhead_14)\" />\n",
       "                </svg>\n",
       "                <div style=\"position: absolute; top: 0; left: 50%; transform: translateX(-50%); font-size: 14px;\">AI Model Search</div>\n",
       "            </div>\n",
       "            <div style=\"text-align: left; margin-left: 12px;; width: 30%\">\n",
       "                <p>Offered</p>\n",
       "            </div>\n",
       "        </div>\n",
       "        "
      ],
      "text/plain": [
       "<IPython.core.display.HTML object>"
      ]
     },
     "metadata": {},
     "output_type": "display_data"
    }
   ],
   "source": [
    "N2.plt()"
   ]
  },
  {
   "cell_type": "code",
   "execution_count": 17,
   "id": "639b4f53-2f05-4ba2-af0b-11cc535e4042",
   "metadata": {
    "ExecuteTime": {
     "end_time": "2025-01-20T06:45:38.144493Z",
     "start_time": "2025-01-20T06:45:38.056309Z"
    }
   },
   "outputs": [],
   "source": [
    "s1, s2 = N2.sites('JP_Ext', '[Dataset]', create=True)"
   ]
  },
  {
   "cell_type": "code",
   "execution_count": 18,
   "id": "ea893893-6b9a-4d03-a45a-f24b89265306",
   "metadata": {
    "ExecuteTime": {
     "end_time": "2025-01-20T06:45:38.255638Z",
     "start_time": "2025-01-20T06:45:38.177570Z"
    }
   },
   "outputs": [
    {
     "data": {
      "text/plain": [
       "{'_c0': <AI Model Search: [Rec_Ext] --> {Offered}>}"
      ]
     },
     "execution_count": 18,
     "metadata": {},
     "output_type": "execute_result"
    }
   ],
   "source": [
    "N2._channels"
   ]
  },
  {
   "cell_type": "code",
   "execution_count": 19,
   "id": "1a81661a-f41b-4c68-ba51-0e9d950af99d",
   "metadata": {
    "ExecuteTime": {
     "end_time": "2025-01-20T06:45:38.364484Z",
     "start_time": "2025-01-20T06:45:38.274411Z"
    }
   },
   "outputs": [
    {
     "data": {
      "text/plain": [
       "<AI Model Search: [Rec_Ext, JP_Ext, [Dataset]] --> {Offered}>"
      ]
     },
     "execution_count": 19,
     "metadata": {},
     "output_type": "execute_result"
    }
   ],
   "source": [
    "N2.channel('_c0').add_input(s1).add_input(s2)"
   ]
  },
  {
   "cell_type": "code",
   "execution_count": 20,
   "id": "57926fbf-b2dd-4b0a-9258-c46792d7ea13",
   "metadata": {
    "ExecuteTime": {
     "end_time": "2025-01-20T06:45:38.569149Z",
     "start_time": "2025-01-20T06:45:38.381484Z"
    }
   },
   "outputs": [
    {
     "data": {
      "text/html": [
       "\n",
       "        <div style=\"display: flex; align-items: center; justify-content: space-between; width: 100%; font-family: Arial; font-size: 16px;\">\n",
       "            <div style=\"text-align: right; align-items: right; margin-right: 12px; width: 30%\">\n",
       "                <p>Rec_Ext</p><p>JP_Ext</p><p>[Dataset]</p>\n",
       "            </div>\n",
       "            <div style=\"text-align: center; position: relative; flex: 1;\">\n",
       "                <svg height=\"50\" width=\"150\" style=\"overflow: visible;\">\n",
       "                    <defs>\n",
       "                        <marker id=\"arrowhead_15\" markerWidth=\"10\" markerHeight=\"7\" refX=\"10\" refY=\"3.5\" orient=\"auto\">\n",
       "                            <polygon points=\"0 0, 10 3.5, 0 7\" fill=\"currentColor\" />\n",
       "                        </marker>\n",
       "                    </defs>\n",
       "                    <line x1=\"0\" y1=\"25\" x2=\"150\" y2=\"25\" stroke=\"currentColor\" stroke-width=\"2\" marker-end=\"url(#arrowhead_15)\" />\n",
       "                </svg>\n",
       "                <div style=\"position: absolute; top: 0; left: 50%; transform: translateX(-50%); font-size: 14px;\">AI Model Search</div>\n",
       "            </div>\n",
       "            <div style=\"text-align: left; margin-left: 12px;; width: 30%\">\n",
       "                <p>Offered</p>\n",
       "            </div>\n",
       "        </div>\n",
       "        "
      ],
      "text/plain": [
       "<IPython.core.display.HTML object>"
      ]
     },
     "metadata": {},
     "output_type": "display_data"
    }
   ],
   "source": [
    "N2.plt()"
   ]
  },
  {
   "cell_type": "code",
   "execution_count": 21,
   "id": "a203c740-8e22-41b5-b168-29d6b7034e0b",
   "metadata": {
    "ExecuteTime": {
     "end_time": "2025-01-20T06:45:38.738704Z",
     "start_time": "2025-01-20T06:45:38.621078Z"
    }
   },
   "outputs": [
    {
     "name": "stdout",
     "output_type": "stream",
     "text": [
      "%_c0: [Rec_Ext, JP_Ext, [Dataset]] --> {Offered}\n",
      "\n",
      "    \\[\n",
      "    \\begin{tikzpicture}[node distance=1em, auto]\n",
      "        % Define nodes\n",
      "        \\node (lab) at (-4, 0) {c0};\n",
      "        \\node (mr) at (10, 0) {};\n",
      "        \\node (ml) at (-5, 0) {};\n",
      "        \\node (r) at (0, 0) {};\n",
      "        \\node (l) at (3, 0) {};\n",
      "            \\node  (s0) [left=of r, yshift=-1.0em] {Rec_Ext};\n",
      "\\node  (s2) [left=of r, yshift=0.0em] {JP_Ext};\n",
      "\\node  (s3) [left=of r, yshift=1.0em] {[Dataset]};\n",
      "\n",
      "            \\node  (s1) [right=of l, yshift=0.0em] {Offered};\n",
      "\n",
      "        % Draw arrow\n",
      "        \\draw[->] (r.east) -- (l.west) node[midway, above] {\\textit{AI Model Search}};\n",
      "    \\end{tikzpicture}\n",
      "    \\]\n",
      "    \n"
     ]
    }
   ],
   "source": [
    "print(N2.tex())"
   ]
  },
  {
   "cell_type": "code",
   "execution_count": null,
   "id": "7eb2c788-7446-4faf-823a-5d24b1c2cd22",
   "metadata": {
    "ExecuteTime": {
     "end_time": "2025-01-20T06:45:38.769893Z",
     "start_time": "2025-01-20T06:45:38.756870Z"
    }
   },
   "outputs": [],
   "source": []
  },
  {
   "cell_type": "code",
   "execution_count": null,
   "id": "88055e70-bd6d-4bec-b155-fb67752ca2fa",
   "metadata": {
    "ExecuteTime": {
     "end_time": "2025-01-20T06:45:38.800162Z",
     "start_time": "2025-01-20T06:45:38.788030Z"
    }
   },
   "outputs": [],
   "source": []
  },
  {
   "cell_type": "code",
   "execution_count": null,
   "id": "d654596e-722e-48df-9a8d-e4b9c3c8b527",
   "metadata": {
    "ExecuteTime": {
     "end_time": "2025-01-20T06:45:38.830068Z",
     "start_time": "2025-01-20T06:45:38.822929Z"
    }
   },
   "outputs": [],
   "source": []
  },
  {
   "cell_type": "code",
   "execution_count": null,
   "id": "fa8482de-c453-4e2e-b57b-96c30e0a96f9",
   "metadata": {
    "ExecuteTime": {
     "end_time": "2025-01-20T06:45:38.861839Z",
     "start_time": "2025-01-20T06:45:38.848776Z"
    }
   },
   "outputs": [],
   "source": []
  },
  {
   "cell_type": "code",
   "execution_count": null,
   "id": "132b08c3-b0db-4281-a1a5-f66e1087fa11",
   "metadata": {
    "ExecuteTime": {
     "end_time": "2025-01-20T06:45:38.892522Z",
     "start_time": "2025-01-20T06:45:38.883319Z"
    }
   },
   "outputs": [],
   "source": []
  },
  {
   "cell_type": "code",
   "execution_count": null,
   "id": "26cdca0c-e33b-4744-9d2f-c46e36d47dee",
   "metadata": {
    "ExecuteTime": {
     "end_time": "2025-01-20T06:45:38.940125Z",
     "start_time": "2025-01-20T06:45:38.927312Z"
    }
   },
   "outputs": [],
   "source": []
  },
  {
   "cell_type": "code",
   "execution_count": null,
   "id": "cb9b5474-9c7d-4dfa-ad61-49c6f8951505",
   "metadata": {
    "ExecuteTime": {
     "end_time": "2025-01-20T06:45:38.971254Z",
     "start_time": "2025-01-20T06:45:38.957307Z"
    }
   },
   "outputs": [],
   "source": []
  }
 ],
 "metadata": {
  "kernelspec": {
   "display_name": "Python 3 (ipykernel)",
   "language": "python",
   "name": "python3"
  },
  "language_info": {
   "codemirror_mode": {
    "name": "ipython",
    "version": 3
   },
   "file_extension": ".py",
   "mimetype": "text/x-python",
   "name": "python",
   "nbconvert_exporter": "python",
   "pygments_lexer": "ipython3",
   "version": "3.9.0"
  }
 },
 "nbformat": 4,
 "nbformat_minor": 5
}
